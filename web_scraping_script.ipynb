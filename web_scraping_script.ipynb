{
 "cells": [
  {
   "cell_type": "code",
   "execution_count": 1,
   "metadata": {},
   "outputs": [],
   "source": [
    "import requests\n",
    "import re\n",
    "import pandas as pd\n",
    "import numpy as np\n",
    "from bs4 import BeautifulSoup\n",
    "from selenium import webdriver\n",
    "from selenium.webdriver.common.by import By\n",
    "from selenium.webdriver.chrome.service import Service"
   ]
  },
  {
   "cell_type": "code",
   "execution_count": 2,
   "metadata": {},
   "outputs": [],
   "source": [
    "# Set the path to the Chromedriver\n",
    "DRIVER_PATH = 'C:/Users/Administrator/Downloads/chromedriver-win64/chromedriver.exe'\n",
    "\n",
    "service = Service(executable_path=DRIVER_PATH)\n",
    "options = webdriver.ChromeOptions()\n",
    "\n",
    "# Enable headless mode\n",
    "options.add_argument('--headless=new')\n",
    "options.add_argument(\"--window-size=1920,1200\")  # Set the window size\n",
    "\n",
    "# Initialize the Chrome driver\n",
    "driver = webdriver.Chrome(service=service, options=options)\n",
    "\n",
    "URL = 'https://www.sony.co.in/headphones/headband'\n",
    "\n",
    "driver.get(URL)\n",
    "webpage = driver.page_source"
   ]
  },
  {
   "cell_type": "code",
   "execution_count": 5,
   "metadata": {},
   "outputs": [
    {
     "name": "stdout",
     "output_type": "stream",
     "text": [
      "8\n"
     ]
    }
   ],
   "source": [
    "# Parse the HTML with BeautifulSoup\n",
    "soup = BeautifulSoup(webpage, 'html.parser')\n",
    "all_links = soup.find_all('a', class_='GalleryListItem__Button js-datalayer-action-event')\n",
    "product_links = [link['href'] for link in all_links]\n",
    "\n",
    "def correct_links(link):\n",
    "    if 'https' not in link:\n",
    "        return 'https://www.sony.co.in' + link\n",
    "    return link\n",
    "\n",
    "final_links = [correct_links(link) for link in product_links]\n",
    "print(len(final_links))"
   ]
  },
  {
   "cell_type": "code",
   "execution_count": 19,
   "metadata": {},
   "outputs": [],
   "source": [
    "# Function to extract product title\n",
    "\n",
    "def get_title(soup):\n",
    "    \n",
    "    try:\n",
    "        # Outer tag object \n",
    "        title = soup.find('h3', class_='ProductSummary__SubHeadline')\n",
    "\n",
    "        # Inner NavigatableString Object\n",
    "        title_value = title.text\n",
    "\n",
    "        # Title as a string value\n",
    "        title_string = title_value.strip()\n",
    "\n",
    "    except AttributeError:\n",
    "        title_string = \"\"\n",
    "\n",
    "    return title_string\n",
    "\n",
    "# Function to extract Product Price\n",
    "\n",
    "def get_price(soup):\n",
    "\n",
    "    try:\n",
    "        price = soup.find(\"span\", class_='ProductSummaryModels__ModelPriceNumber js-product-price js-datalayer-price-details')\n",
    "        price_value = price.text\n",
    "        price_string = price_value.strip()\n",
    "        # price_string = re.sub(r'[^0-9]', '', price_string)\n",
    "\n",
    "    except AttributeError:\n",
    "        price_string = \"\"\n",
    "\n",
    "    return price_string\n",
    "\n",
    "# Function to extract product Reviews\n",
    "\n",
    "def get_rating(soup):\n",
    "    \n",
    "    try:\n",
    "        # Outer tag object \n",
    "        review = soup.find('span', class_='StarRatings__Count js-datalayer-averageRating')\n",
    "\n",
    "        # Inner NavigatableString Object\n",
    "        review_value = review.text\n",
    "\n",
    "        # Title as a string value\n",
    "        review_string = review_value.strip()\n",
    "\n",
    "    except AttributeError:\n",
    "        review_string = \"\"\n",
    "\n",
    "    return review_string\n",
    "\n",
    "# Function to extract product Reviews\n",
    "\n",
    "def get_review_count(soup):\n",
    "    \n",
    "    try:\n",
    "        # Outer tag object \n",
    "        count = soup.find('span', class_='ProductSummary__TotalRate js-datalayer-reviewCount')\n",
    "\n",
    "        # Inner NavigatableString Object\n",
    "        count_value = count.get('data-review-count')\n",
    "\n",
    "        # Title as a string value\n",
    "        count_string = count_value.strip()\n",
    "\n",
    "    except AttributeError:\n",
    "        count_string = \"\"\n",
    "    \n",
    "    return count_string\n",
    "\n",
    "def get_product_images(soup):\n",
    "\n",
    "    try:\n",
    "        # Outer tag object\n",
    "        images = soup.find_all('div', class_='ProductIntroPlate__ThumbImage -LargeScreen')\n",
    "        image_links = [image.get('data-background-image-hires') for image in images]\n",
    "    \n",
    "    except AttributeError:\n",
    "        image_links = []\n",
    "\n",
    "    return image_links\n",
    "\n",
    "def get_product_features(soup):\n",
    "\n",
    "    try:\n",
    "        # Outer tag object\n",
    "        features = soup.find_all('p', class_='Highlights__SpecValue')\n",
    "        feature_list = [feature.text for feature in features]\n",
    "\n",
    "    except AttributeError:\n",
    "        feature_list = []\n",
    "\n",
    "    return feature_list"
   ]
  },
  {
   "cell_type": "code",
   "execution_count": 20,
   "metadata": {},
   "outputs": [],
   "source": [
    "data = {'name': [], 'price': [], 'rating': [], 'review_count': [], 'images': [], 'features': []}\n",
    "\n",
    "for link in final_links:\n",
    "    driver.get(link)\n",
    "    new_webpage = driver.page_source\n",
    "    new_soup = BeautifulSoup(new_webpage, 'html.parser')\n",
    "\n",
    "    # The function call to display all the product information\n",
    "    data['name'].append(get_title(new_soup))\n",
    "    data['price'].append(get_price(new_soup))\n",
    "    data['rating'].append(get_rating(new_soup))\n",
    "    data['review_count'].append(get_review_count(new_soup))\n",
    "    data['images'].append(get_product_images(new_soup))\n",
    "    data['features'].append(get_product_features(new_soup))"
   ]
  },
  {
   "cell_type": "code",
   "execution_count": null,
   "metadata": {},
   "outputs": [],
   "source": [
    "sony_df = pd.DataFrame.from_dict(data)\n",
    "sony_df['name'].replace('', np.nan, inplace=True)\n",
    "sony_df = sony_df.dropna(subset=['name'])\n",
    "sony_df"
   ]
  },
  {
   "cell_type": "code",
   "execution_count": 24,
   "metadata": {},
   "outputs": [],
   "source": [
    "sony_df.to_csv(\"C:\\\\Users\\\\Administrator\\\\Downloads\\\\sony_headphones_wireless.csv\", header=True, index=False)"
   ]
  },
  {
   "cell_type": "code",
   "execution_count": null,
   "metadata": {},
   "outputs": [],
   "source": [
    "driver.get(final_links[1])\n",
    "response = driver.page_source\n",
    "soup1 = BeautifulSoup(response, 'html.parser')\n",
    "title = get_title(soup1)\n",
    "print(title)\n",
    "price = get_price(soup1)\n",
    "print(price)\n",
    "rating = get_rating(soup1)\n",
    "print(rating)\n",
    "count = get_review_count(soup1)\n",
    "print(count)\n",
    "image_links = get_product_images(soup1)\n",
    "print(image_links)\n",
    "feature_list = get_product_features(soup1)\n",
    "print(feature_list)"
   ]
  },
  {
   "cell_type": "code",
   "execution_count": null,
   "metadata": {},
   "outputs": [],
   "source": []
  },
  {
   "cell_type": "code",
   "execution_count": null,
   "metadata": {},
   "outputs": [],
   "source": []
  }
 ],
 "metadata": {
  "kernelspec": {
   "display_name": "Python 3",
   "language": "python",
   "name": "python3"
  },
  "language_info": {
   "codemirror_mode": {
    "name": "ipython",
    "version": 3
   },
   "file_extension": ".py",
   "mimetype": "text/x-python",
   "name": "python",
   "nbconvert_exporter": "python",
   "pygments_lexer": "ipython3",
   "version": "3.13.0"
  }
 },
 "nbformat": 4,
 "nbformat_minor": 2
}
