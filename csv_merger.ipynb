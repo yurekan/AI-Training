{
 "cells": [
  {
   "cell_type": "code",
   "execution_count": 15,
   "metadata": {},
   "outputs": [
    {
     "name": "stdout",
     "output_type": "stream",
     "text": [
      "Files merged successfully! Updated file saved to 'C:/Users/yurek/Downloads/sony_headphones.csv'.\n",
      "New file 'C:/Users/yurek/Downloads/sony_headphones1.csv' has been deleted.\n"
     ]
    }
   ],
   "source": [
    "import os\n",
    "import pandas as pd\n",
    "\n",
    "# Paths to the existing file and the new file to merge\n",
    "existing_file = \"C:/Users/yurek/Downloads/sony_headphones.csv\"\n",
    "new_file = \"C:/Users/yurek/Downloads/sony_headphones1.csv\"\n",
    "\n",
    "# Output file (updated existing file)\n",
    "output_file = \"C:/Users/yurek/Downloads/sony_headphones.csv\"  # Overwrite the existing file\n",
    "\n",
    "try:\n",
    "    # Read the existing CSV file\n",
    "    existing_df = pd.read_csv(existing_file)\n",
    "    \n",
    "    # Read the new CSV file\n",
    "    new_df = pd.read_csv(new_file)\n",
    "    \n",
    "    # Merge the new data into the existing DataFrame\n",
    "    merged_df = pd.concat([existing_df, new_df], ignore_index=True)\n",
    "    \n",
    "    # Save the merged data back into the existing file\n",
    "    merged_df.to_csv(output_file, index=False)\n",
    "    \n",
    "    # Delete the new CSV file\n",
    "    os.remove(new_file)\n",
    "    print(f\"Files merged successfully! Updated file saved to '{output_file}'.\")\n",
    "    print(f\"New file '{new_file}' has been deleted.\")\n",
    "    \n",
    "except FileNotFoundError as e:\n",
    "    print(f\"File not found: {e}\")\n",
    "except Exception as e:\n",
    "    print(f\"An error occurred: {e}\")\n"
   ]
  },
  {
   "cell_type": "code",
   "execution_count": null,
   "metadata": {},
   "outputs": [],
   "source": []
  }
 ],
 "metadata": {
  "kernelspec": {
   "display_name": "base",
   "language": "python",
   "name": "python3"
  },
  "language_info": {
   "codemirror_mode": {
    "name": "ipython",
    "version": 3
   },
   "file_extension": ".py",
   "mimetype": "text/x-python",
   "name": "python",
   "nbconvert_exporter": "python",
   "pygments_lexer": "ipython3",
   "version": "3.10.9"
  }
 },
 "nbformat": 4,
 "nbformat_minor": 2
}
