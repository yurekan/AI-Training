{
 "cells": [
  {
   "cell_type": "code",
   "execution_count": 1,
   "metadata": {},
   "outputs": [],
   "source": [
    "import requests\n",
    "import time\n",
    "import re\n",
    "import pandas as pd\n",
    "import numpy as np\n",
    "from bs4 import BeautifulSoup\n",
    "from selenium import webdriver\n",
    "from selenium.webdriver.common.by import By\n",
    "from selenium.webdriver.chrome.service import Service\n",
    "from selenium.webdriver.support.ui import WebDriverWait\n",
    "from selenium.webdriver.support import expected_conditions as EC"
   ]
  },
  {
   "cell_type": "code",
   "execution_count": 2,
   "metadata": {},
   "outputs": [],
   "source": [
    "# Set up Selenium WebDriver\n",
    "options = webdriver.ChromeOptions()\n",
    "options.add_argument('--headless')  # Run headless for efficiency\n",
    "driver = webdriver.Chrome(options=options)\n",
    "\n",
    "# Open the target URL\n",
    "driver.get(\"https://www.sony.co.in/headphones/headband\")\n",
    "\n",
    "# Wait for the page to load\n",
    "time.sleep(3)  # Adjust this as needed for the webpage's initial loading time\n",
    "\n",
    "# Incremental scroll simulation\n",
    "SCROLL_PAUSE_TIME = 1  # Time to pause between scrolls (adjust as needed)\n",
    "SCROLL_INCREMENT = 300  # Scroll increment in pixels (adjust for optimal results)\n",
    "\n",
    "# Get the initial scroll height\n",
    "current_height = 0\n",
    "while True:\n",
    "    # Incrementally scroll down\n",
    "    driver.execute_script(f\"window.scrollTo(0, {current_height});\")\n",
    "    time.sleep(SCROLL_PAUSE_TIME)  # Pause to allow content to load\n",
    "\n",
    "    # Update the current height\n",
    "    current_height += SCROLL_INCREMENT\n",
    "\n",
    "    # Check if no new content has loaded\n",
    "    new_height = driver.execute_script(\"return document.body.scrollHeight\")\n",
    "    if current_height >= new_height:\n",
    "        break  # Break if end of content is reached\n",
    "\n",
    "# Parse the loaded content with BeautifulSoup\n",
    "soup = BeautifulSoup(driver.page_source, 'html.parser')"
   ]
  },
  {
   "cell_type": "code",
   "execution_count": 3,
   "metadata": {},
   "outputs": [],
   "source": [
    "def correct_links(link):\n",
    "    if 'https' not in link:\n",
    "        return 'https://www.sony.co.in' + link\n",
    "    return link"
   ]
  },
  {
   "cell_type": "code",
   "execution_count": 4,
   "metadata": {},
   "outputs": [],
   "source": [
    "# Function to extract product title\n",
    "\n",
    "def get_title(soup):\n",
    "    \n",
    "    try:\n",
    "        # Outer tag object \n",
    "        title = soup.find_all('div', class_='GalleryListItem__ProductCode')\n",
    "        title_value = [name.text for name in title]\n",
    "        title_string = [name.strip() for name in title_value]\n",
    "\n",
    "    except AttributeError:\n",
    "        title_string = \"\"\n",
    "\n",
    "    return title_string"
   ]
  },
  {
   "cell_type": "code",
   "execution_count": 5,
   "metadata": {},
   "outputs": [],
   "source": [
    "def get_product_images(soup):\n",
    "\n",
    "    try:\n",
    "        # Outer tag object\n",
    "        images = soup.find_all('img', class_='v-lazy-image v-lazy-image-loaded')\n",
    "        image_links = [image.get('src') for image in images]\n",
    "    \n",
    "    except AttributeError:\n",
    "        image_links = []\n",
    "\n",
    "    return image_links"
   ]
  },
  {
   "cell_type": "code",
   "execution_count": 17,
   "metadata": {},
   "outputs": [],
   "source": [
    "names = get_title(soup)\n",
    "images = get_product_images(soup)\n",
    "images = set(images)\n",
    "\n",
    "# Step 1: Filter the images list\n",
    "filtered_images = []\n",
    "for image in images:\n",
    "    if \"https\" in image:\n",
    "        filtered_images.append(image)  # Add directly if it contains \"https\"\n",
    "    elif image.startswith(\"/image\"):\n",
    "        processed_image = correct_links(image)  # Process if it starts with \"/image\"\n",
    "        filtered_images.append(processed_image)\n",
    "\n",
    "# Step 2: Associate names with filtered images\n",
    "result = []\n",
    "processed_names = set()  # Track processed names to avoid duplicates\n",
    "\n",
    "for name in names:\n",
    "    for image in filtered_images:\n",
    "        if name.lower() in image and name.lower() not in processed_names:\n",
    "            result.append({\"name\": name, \"image\": image})\n",
    "            processed_names.add(name)  # Mark the name as processed\n",
    "            break  # Move to the next name after finding a match"
   ]
  },
  {
   "cell_type": "code",
   "execution_count": 18,
   "metadata": {},
   "outputs": [
    {
     "name": "stdout",
     "output_type": "stream",
     "text": [
      "['MDR-M1', 'MDR-7506', 'MDR-MV1', 'WH-1000XM5', 'WH-1000XM4', 'ULT WEAR', 'WH-CH720N', 'WH-CH520', 'MDR-ZX110A/MDR-ZX110AP/null']\n",
      "['https://sony.scene7.com/is/image/sonyglobalsolutions/wh-ch520_Primary_image_beige?$mediaCarouselSmall$&fmt=png-alpha', 'https://www.sony.co.in/image/8e2364ea770052eb890f78ce3ad936f5?fmt=png-alpha&wid=660&hei=660', 'https://sony.scene7.com/is/image/sonyglobalsolutions/wh-ch720_Primary_image_white?$mediaCarouselSmall$&fmt=png-alpha', 'https://sony.scene7.com/is/image/sonyglobalsolutions/OMH_Primary_image_1200?$mediaCarouselSmall$&fmt=png-alpha', 'https://www.sony.co.in/image/38ea5815d12ab90a45b9b1a35520b794?fmt=png-alpha&wid=660&hei=660', 'https://sony.scene7.com/is/image/sonyglobalsolutions/wh-ch720_Primary_image_blue?$mediaCarouselSmall$&fmt=png-alpha', 'https://sony.scene7.com/is/image/sonyglobalsolutions/Primary_image_1-1?$mediaCarouselSmall$&fmt=png-alpha', 'https://www.sony.co.in/image/5d02da5df552836db894cead8a68f5f3?fmt=png-alpha&wid=660&hei=660', 'https://www.sony.co.in/image/14f69b3ca996ee077d63fb7ee9c8894e?fmt=png-alpha&wid=660&hei=660', 'https://sony.scene7.com/is/image/sonyglobalsolutions/wh-ch520_Primary_image_blue?$mediaCarouselSmall$&fmt=png-alpha', 'https://www.sony.co.in/image/6145c1d32e6ac8e63a46c912dc33c5bb?fmt=png-alpha&wid=660&hei=660', 'https://sony.scene7.com/is/image/sonyglobalsolutions/WH-ULT900N_Primary_image_Black?$mediaCarouselSmall$&fmt=png-alpha']\n"
     ]
    }
   ],
   "source": [
    "print(names)\n",
    "print(filtered_images)"
   ]
  },
  {
   "cell_type": "code",
   "execution_count": 19,
   "metadata": {},
   "outputs": [
    {
     "name": "stdout",
     "output_type": "stream",
     "text": [
      "12\n"
     ]
    }
   ],
   "source": [
    "print(len(filtered_images))"
   ]
  },
  {
   "cell_type": "code",
   "execution_count": 21,
   "metadata": {},
   "outputs": [
    {
     "name": "stdout",
     "output_type": "stream",
     "text": [
      "CSV file created successfully!\n"
     ]
    }
   ],
   "source": [
    "# Step 3: Create a DataFrame\n",
    "df = pd.DataFrame(result)\n",
    "\n",
    "# Save the DataFrame to a CSV file\n",
    "df.to_csv('C://Users//yurek//Downloads//Headband_Headphone.csv', index=False)\n",
    "\n",
    "print(\"CSV file created successfully!\")"
   ]
  },
  {
   "cell_type": "code",
   "execution_count": null,
   "metadata": {},
   "outputs": [],
   "source": []
  }
 ],
 "metadata": {
  "kernelspec": {
   "display_name": "Python 3",
   "language": "python",
   "name": "python3"
  },
  "language_info": {
   "codemirror_mode": {
    "name": "ipython",
    "version": 3
   },
   "file_extension": ".py",
   "mimetype": "text/x-python",
   "name": "python",
   "nbconvert_exporter": "python",
   "pygments_lexer": "ipython3",
   "version": "3.12.8"
  }
 },
 "nbformat": 4,
 "nbformat_minor": 2
}
