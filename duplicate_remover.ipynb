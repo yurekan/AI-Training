{
 "cells": [
  {
   "cell_type": "code",
   "execution_count": 3,
   "metadata": {},
   "outputs": [
    {
     "name": "stdout",
     "output_type": "stream",
     "text": [
      "Processed data saved to 'cleaned_data.csv'\n"
     ]
    }
   ],
   "source": [
    "import pandas as pd\n",
    "\n",
    "# Function to read a CSV file and handle duplicates\n",
    "def handle_duplicates(csv_file):\n",
    "    # Read the CSV file into a DataFrame\n",
    "    df = pd.read_csv(csv_file)\n",
    "    \n",
    "    # Identify duplicates based on all columns except 'sub_category'\n",
    "    non_sub_category_columns = [col for col in df.columns if col != 'sub_category']\n",
    "    duplicates = df[df.duplicated(subset=non_sub_category_columns, keep=False)]\n",
    "    \n",
    "    if not duplicates.empty:\n",
    "        # Group by the non-'sub_category' columns\n",
    "        grouped = duplicates.groupby(non_sub_category_columns)\n",
    "        \n",
    "        # Merge the 'sub_category' values into a list and keep unique rows\n",
    "        merged_records = []\n",
    "        for keys, group in grouped:\n",
    "            sub_category_list = group['sub_category'].tolist()\n",
    "            merged_row = dict(zip(non_sub_category_columns, keys))\n",
    "            merged_row['sub_category'] = sub_category_list\n",
    "            merged_records.append(merged_row)\n",
    "        \n",
    "        # Create a DataFrame for the merged records\n",
    "        merged_df = pd.DataFrame(merged_records)\n",
    "        \n",
    "        # Remove duplicates from the original DataFrame\n",
    "        df = df.drop_duplicates(subset=non_sub_category_columns, keep=False)\n",
    "        \n",
    "        # Append the merged rows back to the DataFrame\n",
    "        df = pd.concat([df, merged_df], ignore_index=True)\n",
    "    \n",
    "    return df\n",
    "\n",
    "# Example usage\n",
    "if __name__ == \"__main__\":\n",
    "    # Path to your CSV file\n",
    "    csv_file = \"C:/Users/yurek/Downloads/sony_headphones.csv\"\n",
    "    result_df = handle_duplicates(csv_file)\n",
    "    \n",
    "    # Save the result to a new CSV file\n",
    "    result_df.to_csv(\"C:/Users/yurek/Downloads/sony_headphones_final.csv\", index=False)\n",
    "    print(\"Processed data saved to 'cleaned_data.csv'\")\n"
   ]
  },
  {
   "cell_type": "code",
   "execution_count": null,
   "metadata": {},
   "outputs": [],
   "source": []
  }
 ],
 "metadata": {
  "kernelspec": {
   "display_name": "base",
   "language": "python",
   "name": "python3"
  },
  "language_info": {
   "codemirror_mode": {
    "name": "ipython",
    "version": 3
   },
   "file_extension": ".py",
   "mimetype": "text/x-python",
   "name": "python",
   "nbconvert_exporter": "python",
   "pygments_lexer": "ipython3",
   "version": "3.10.9"
  }
 },
 "nbformat": 4,
 "nbformat_minor": 2
}
